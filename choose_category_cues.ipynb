{
 "cells": [
  {
   "cell_type": "code",
   "execution_count": 18,
   "metadata": {},
   "outputs": [],
   "source": [
    "import random\n",
    "from generate_cuefr import middle_half_indices\n",
    "import numpy as np\n",
    "\n",
    "def choose_category_cues(\n",
    "    trial_count: int, list_length: int, control_proportion: float, cue_count: int\n",
    ") -> np.ndarray:\n",
    "    control_count = int(trial_count * control_proportion)\n",
    "    indices = np.full((control_count, cue_count), -1)\n",
    "    trial_count -= control_count\n",
    "    \n",
    "    while trial_count > 0:\n",
    "        serial_positions = middle_half_indices(list_length)\n",
    "        random.shuffle(serial_positions)\n",
    "        \n",
    "        selected_cues = []\n",
    "    \n",
    "        \n",
    "        for _ in range(cue_count):\n",
    "            for pos in serial_positions:\n",
    "                if all(abs(pos - s) > 2 for s in selected_cues):\n",
    "                    selected_cues.append(pos)\n",
    "                    break\n",
    "        \n",
    "        \n",
    "        \n",
    "        if len(selected_cues) < cue_count:\n",
    "            break\n",
    "        \n",
    "        indices = np.vstack((indices, selected_cues))\n",
    "        trial_count -= 1\n",
    "    \n",
    "    return indices\n",
    "\n"
   ]
  },
  {
   "cell_type": "code",
   "execution_count": 19,
   "metadata": {},
   "outputs": [
    {
     "data": {
      "text/plain": [
       "array([[-1, -1, -1],\n",
       "       [-1, -1, -1],\n",
       "       [-1, -1, -1],\n",
       "       [-1, -1, -1],\n",
       "       [-1, -1, -1],\n",
       "       [-1, -1, -1],\n",
       "       [-1, -1, -1],\n",
       "       [-1, -1, -1],\n",
       "       [ 7,  4, 10]])"
      ]
     },
     "execution_count": 19,
     "metadata": {},
     "output_type": "execute_result"
    }
   ],
   "source": [
    "choose_category_cues(\n",
    "    trial_count=20,\n",
    "    list_length=16,\n",
    "    control_proportion=.4,\n",
    "    cue_count=3\n",
    ")"
   ]
  },
  {
   "cell_type": "code",
   "execution_count": null,
   "metadata": {},
   "outputs": [],
   "source": []
  }
 ],
 "metadata": {
  "kernelspec": {
   "display_name": "base",
   "language": "python",
   "name": "python3"
  },
  "language_info": {
   "codemirror_mode": {
    "name": "ipython",
    "version": 3
   },
   "file_extension": ".py",
   "mimetype": "text/x-python",
   "name": "python",
   "nbconvert_exporter": "python",
   "pygments_lexer": "ipython3",
   "version": "3.11.5"
  }
 },
 "nbformat": 4,
 "nbformat_minor": 2
}
