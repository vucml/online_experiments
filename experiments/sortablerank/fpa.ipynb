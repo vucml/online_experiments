{
 "cells": [
  {
   "cell_type": "code",
   "execution_count": 1,
   "metadata": {},
   "outputs": [
    {
     "name": "stderr",
     "output_type": "stream",
     "text": [
      "<>:77: SyntaxWarning: invalid escape sequence '\\d'\n",
      "<>:77: SyntaxWarning: invalid escape sequence '\\d'\n",
      "/var/folders/7n/m1dxq2r12b77t0c09mty9kn00000gn/T/ipykernel_2708/1133449835.py:77: SyntaxWarning: invalid escape sequence '\\d'\n",
      "  data_long['shared_feature_level'] = data_long['shared_feature_level'].str.extract('(\\d+)').astype(int)\n"
     ]
    }
   ],
   "source": [
    "import pandas as pd\n",
    "import seaborn as sns\n",
    "import matplotlib.pyplot as plt\n",
    "import os\n",
    "\n",
    "def plot_homophily_check(data, save_path=None, plot_title=''):\n",
    "    \"\"\"\n",
    "    This function takes a pandas DataFrame and performs the homophily check analysis,\n",
    "    plotting the average selection ratio against the number of shared features for each condition.\n",
    "    Optionally, it saves the plot to the specified save_path.\n",
    "    \"\"\"\n",
    "    # Step 1: Calculate counts of each shared feature level for each subject and retain condition\n",
    "\n",
    "\n",
    "    # DeprecationWarning: DataFrameGroupBy.apply operated on the grouping columns. This behavior is deprecated, and in a future version of pandas the grouping columns will be excluded from the operation. Either pass `include_groups=False` to exclude the groupings or explicitly select the grouping columns after groupby to silence this warning.\n",
    "    feature_counts = data.groupby('subject').apply(\n",
    "        lambda x: pd.Series({\n",
    "            'condition': x['condition'].iloc[0],\n",
    "            'count_0': (x['shared_features'] == 0).sum(),\n",
    "            'count_1': (x['shared_features'] == 1).sum(),\n",
    "            'count_2': (x['shared_features'] == 2).sum(),\n",
    "            'count_3': (x['shared_features'] == 3).sum(),\n",
    "        })\n",
    "    ).reset_index()\n",
    "\n",
    "    # Step 2: Join these counts back to the main data frame based on the subject\n",
    "    data = data.drop(columns=['condition'])\n",
    "    data = data.merge(feature_counts, on='subject', how='left')\n",
    "\n",
    "    # Step 3: Calculate expected proportions for each subject and shared feature level\n",
    "    expected_proportions = data.groupby('subject').apply(\n",
    "        lambda x: pd.Series({\n",
    "            'condition': x['condition'].iloc[0],\n",
    "            'expected_prop_0': (x['shared_features'] == 0).sum() / 9,\n",
    "            'expected_prop_1': (x['shared_features'] == 1).sum() / 9,\n",
    "            'expected_prop_2': (x['shared_features'] == 2).sum() / 9,\n",
    "            'expected_prop_3': (x['shared_features'] == 3).sum() / 9,\n",
    "        })\n",
    "    ).reset_index()\n",
    "\n",
    "    # Step 4: Calculate observed proportions for each subject and shared feature level\n",
    "    observed_counts = data[data['chosen'] == 1].groupby(['subject', 'shared_features']).size().unstack(fill_value=0).reset_index()\n",
    "    observed_counts.columns.name = None\n",
    "\n",
    "    # Rename the columns to ensure they match expected names\n",
    "    for i in range(4):\n",
    "        col_name = f'observed_{i}'\n",
    "        if i in observed_counts.columns:\n",
    "            observed_counts.rename(columns={i: col_name}, inplace=True)\n",
    "        else:\n",
    "            observed_counts[col_name] = 0\n",
    "\n",
    "        observed_counts[f'observed_prop_{i}'] = observed_counts[col_name] / 4\n",
    "\n",
    "    # Keep only subject and observed_prop columns\n",
    "    observed_proportions = observed_counts[['subject'] + [f'observed_prop_{i}' for i in range(4)]]\n",
    "\n",
    "    # Step 5: Join expected and observed proportions, retaining condition without duplicates\n",
    "    data_proportions = expected_proportions.merge(observed_proportions, on='subject', how='left')\n",
    "\n",
    "    # Step 6: Calculate proportional ratios for each shared feature level\n",
    "    for i in range(4):\n",
    "        data_proportions[f'ratio_{i}'] = data_proportions[f'observed_prop_{i}'] / data_proportions[f'expected_prop_{i}']\n",
    "\n",
    "    # Step 7: Reshape data to long format for easier plotting and comparison\n",
    "    id_vars = ['subject', 'condition']\n",
    "    value_vars = [f'ratio_{i}' for i in range(4)]\n",
    "    data_long = pd.melt(\n",
    "        data_proportions,\n",
    "        id_vars=id_vars,\n",
    "        value_vars=value_vars,\n",
    "        var_name='shared_feature_level',\n",
    "        value_name='selection_ratio'\n",
    "    )\n",
    "\n",
    "    # Extract shared_feature_level as numeric\n",
    "    data_long['shared_feature_level'] = data_long['shared_feature_level'].str.extract('(\\d+)').astype(int)\n",
    "\n",
    "    # Step 8: Calculate average selection ratio by shared feature level and condition\n",
    "    average_ratios = data_long.groupby(['condition', 'shared_feature_level'])['selection_ratio'].mean().reset_index(name='mean_ratio')\n",
    "\n",
    "    # Check if average_ratios is empty\n",
    "    if average_ratios.empty:\n",
    "        print(\"No data to plot.\")\n",
    "        return\n",
    "\n",
    "    # Step 9: Plotting:\n",
    "    plt.figure()\n",
    "    sns.lineplot(\n",
    "        data=average_ratios,\n",
    "        x='shared_feature_level',\n",
    "        y='mean_ratio',\n",
    "        hue='condition',\n",
    "        marker='o'\n",
    "    )\n",
    "    plt.xlabel('Number of Shared Features')\n",
    "    plt.ylabel('Average Selection Ratio')\n",
    "    plt.title(plot_title)\n",
    "    plt.legend(title='Condition')\n",
    "    plt.tight_layout()\n",
    "    # Display the plot if not saving\n",
    "    if save_path is None:\n",
    "        plt.show()\n",
    "    else:\n",
    "        plt.savefig(save_path)\n",
    "        plt.close()  # Close the figure to free memory"
   ]
  },
  {
   "cell_type": "code",
   "execution_count": 2,
   "metadata": {},
   "outputs": [
    {
     "name": "stdout",
     "output_type": "stream",
     "text": [
      "Dataset first_pass has only one ordering level.\n",
      "Dataset first_pass does not have multiple ordering levels for task_type and ordering combinations.\n",
      "Generating plot: first_pass_overall\n",
      "Generating plot: first_pass_task_type_full_ranking\n",
      "Generating plot: first_pass_task_type_choice_ranking\n"
     ]
    },
    {
     "name": "stderr",
     "output_type": "stream",
     "text": [
      "/var/folders/7n/m1dxq2r12b77t0c09mty9kn00000gn/T/ipykernel_2708/1133449835.py:16: DeprecationWarning: DataFrameGroupBy.apply operated on the grouping columns. This behavior is deprecated, and in a future version of pandas the grouping columns will be excluded from the operation. Either pass `include_groups=False` to exclude the groupings or explicitly select the grouping columns after groupby to silence this warning.\n",
      "  feature_counts = data.groupby('subject').apply(\n",
      "/var/folders/7n/m1dxq2r12b77t0c09mty9kn00000gn/T/ipykernel_2708/1133449835.py:31: DeprecationWarning: DataFrameGroupBy.apply operated on the grouping columns. This behavior is deprecated, and in a future version of pandas the grouping columns will be excluded from the operation. Either pass `include_groups=False` to exclude the groupings or explicitly select the grouping columns after groupby to silence this warning.\n",
      "  expected_proportions = data.groupby('subject').apply(\n",
      "/var/folders/7n/m1dxq2r12b77t0c09mty9kn00000gn/T/ipykernel_2708/1133449835.py:16: DeprecationWarning: DataFrameGroupBy.apply operated on the grouping columns. This behavior is deprecated, and in a future version of pandas the grouping columns will be excluded from the operation. Either pass `include_groups=False` to exclude the groupings or explicitly select the grouping columns after groupby to silence this warning.\n",
      "  feature_counts = data.groupby('subject').apply(\n",
      "/var/folders/7n/m1dxq2r12b77t0c09mty9kn00000gn/T/ipykernel_2708/1133449835.py:31: DeprecationWarning: DataFrameGroupBy.apply operated on the grouping columns. This behavior is deprecated, and in a future version of pandas the grouping columns will be excluded from the operation. Either pass `include_groups=False` to exclude the groupings or explicitly select the grouping columns after groupby to silence this warning.\n",
      "  expected_proportions = data.groupby('subject').apply(\n",
      "/var/folders/7n/m1dxq2r12b77t0c09mty9kn00000gn/T/ipykernel_2708/1133449835.py:16: DeprecationWarning: DataFrameGroupBy.apply operated on the grouping columns. This behavior is deprecated, and in a future version of pandas the grouping columns will be excluded from the operation. Either pass `include_groups=False` to exclude the groupings or explicitly select the grouping columns after groupby to silence this warning.\n",
      "  feature_counts = data.groupby('subject').apply(\n",
      "/var/folders/7n/m1dxq2r12b77t0c09mty9kn00000gn/T/ipykernel_2708/1133449835.py:31: DeprecationWarning: DataFrameGroupBy.apply operated on the grouping columns. This behavior is deprecated, and in a future version of pandas the grouping columns will be excluded from the operation. Either pass `include_groups=False` to exclude the groupings or explicitly select the grouping columns after groupby to silence this warning.\n",
      "  expected_proportions = data.groupby('subject').apply(\n"
     ]
    },
    {
     "name": "stdout",
     "output_type": "stream",
     "text": [
      "Generating plot: second_pass_overall\n",
      "Generating plot: second_pass_ordering_0\n",
      "Generating plot: second_pass_ordering_1\n"
     ]
    },
    {
     "name": "stderr",
     "output_type": "stream",
     "text": [
      "/var/folders/7n/m1dxq2r12b77t0c09mty9kn00000gn/T/ipykernel_2708/1133449835.py:16: DeprecationWarning: DataFrameGroupBy.apply operated on the grouping columns. This behavior is deprecated, and in a future version of pandas the grouping columns will be excluded from the operation. Either pass `include_groups=False` to exclude the groupings or explicitly select the grouping columns after groupby to silence this warning.\n",
      "  feature_counts = data.groupby('subject').apply(\n",
      "/var/folders/7n/m1dxq2r12b77t0c09mty9kn00000gn/T/ipykernel_2708/1133449835.py:31: DeprecationWarning: DataFrameGroupBy.apply operated on the grouping columns. This behavior is deprecated, and in a future version of pandas the grouping columns will be excluded from the operation. Either pass `include_groups=False` to exclude the groupings or explicitly select the grouping columns after groupby to silence this warning.\n",
      "  expected_proportions = data.groupby('subject').apply(\n",
      "/var/folders/7n/m1dxq2r12b77t0c09mty9kn00000gn/T/ipykernel_2708/1133449835.py:16: DeprecationWarning: DataFrameGroupBy.apply operated on the grouping columns. This behavior is deprecated, and in a future version of pandas the grouping columns will be excluded from the operation. Either pass `include_groups=False` to exclude the groupings or explicitly select the grouping columns after groupby to silence this warning.\n",
      "  feature_counts = data.groupby('subject').apply(\n",
      "/var/folders/7n/m1dxq2r12b77t0c09mty9kn00000gn/T/ipykernel_2708/1133449835.py:31: DeprecationWarning: DataFrameGroupBy.apply operated on the grouping columns. This behavior is deprecated, and in a future version of pandas the grouping columns will be excluded from the operation. Either pass `include_groups=False` to exclude the groupings or explicitly select the grouping columns after groupby to silence this warning.\n",
      "  expected_proportions = data.groupby('subject').apply(\n",
      "/var/folders/7n/m1dxq2r12b77t0c09mty9kn00000gn/T/ipykernel_2708/1133449835.py:16: DeprecationWarning: DataFrameGroupBy.apply operated on the grouping columns. This behavior is deprecated, and in a future version of pandas the grouping columns will be excluded from the operation. Either pass `include_groups=False` to exclude the groupings or explicitly select the grouping columns after groupby to silence this warning.\n",
      "  feature_counts = data.groupby('subject').apply(\n",
      "/var/folders/7n/m1dxq2r12b77t0c09mty9kn00000gn/T/ipykernel_2708/1133449835.py:31: DeprecationWarning: DataFrameGroupBy.apply operated on the grouping columns. This behavior is deprecated, and in a future version of pandas the grouping columns will be excluded from the operation. Either pass `include_groups=False` to exclude the groupings or explicitly select the grouping columns after groupby to silence this warning.\n",
      "  expected_proportions = data.groupby('subject').apply(\n"
     ]
    },
    {
     "name": "stdout",
     "output_type": "stream",
     "text": [
      "Generating plot: second_pass_task_type_full_ranking\n",
      "Generating plot: second_pass_task_type_choice_ranking\n",
      "Generating plot: second_pass_task_type_full_ranking_ordering_0\n"
     ]
    },
    {
     "name": "stderr",
     "output_type": "stream",
     "text": [
      "/var/folders/7n/m1dxq2r12b77t0c09mty9kn00000gn/T/ipykernel_2708/1133449835.py:16: DeprecationWarning: DataFrameGroupBy.apply operated on the grouping columns. This behavior is deprecated, and in a future version of pandas the grouping columns will be excluded from the operation. Either pass `include_groups=False` to exclude the groupings or explicitly select the grouping columns after groupby to silence this warning.\n",
      "  feature_counts = data.groupby('subject').apply(\n",
      "/var/folders/7n/m1dxq2r12b77t0c09mty9kn00000gn/T/ipykernel_2708/1133449835.py:31: DeprecationWarning: DataFrameGroupBy.apply operated on the grouping columns. This behavior is deprecated, and in a future version of pandas the grouping columns will be excluded from the operation. Either pass `include_groups=False` to exclude the groupings or explicitly select the grouping columns after groupby to silence this warning.\n",
      "  expected_proportions = data.groupby('subject').apply(\n",
      "/var/folders/7n/m1dxq2r12b77t0c09mty9kn00000gn/T/ipykernel_2708/1133449835.py:16: DeprecationWarning: DataFrameGroupBy.apply operated on the grouping columns. This behavior is deprecated, and in a future version of pandas the grouping columns will be excluded from the operation. Either pass `include_groups=False` to exclude the groupings or explicitly select the grouping columns after groupby to silence this warning.\n",
      "  feature_counts = data.groupby('subject').apply(\n",
      "/var/folders/7n/m1dxq2r12b77t0c09mty9kn00000gn/T/ipykernel_2708/1133449835.py:31: DeprecationWarning: DataFrameGroupBy.apply operated on the grouping columns. This behavior is deprecated, and in a future version of pandas the grouping columns will be excluded from the operation. Either pass `include_groups=False` to exclude the groupings or explicitly select the grouping columns after groupby to silence this warning.\n",
      "  expected_proportions = data.groupby('subject').apply(\n",
      "/var/folders/7n/m1dxq2r12b77t0c09mty9kn00000gn/T/ipykernel_2708/1133449835.py:16: DeprecationWarning: DataFrameGroupBy.apply operated on the grouping columns. This behavior is deprecated, and in a future version of pandas the grouping columns will be excluded from the operation. Either pass `include_groups=False` to exclude the groupings or explicitly select the grouping columns after groupby to silence this warning.\n",
      "  feature_counts = data.groupby('subject').apply(\n",
      "/var/folders/7n/m1dxq2r12b77t0c09mty9kn00000gn/T/ipykernel_2708/1133449835.py:31: DeprecationWarning: DataFrameGroupBy.apply operated on the grouping columns. This behavior is deprecated, and in a future version of pandas the grouping columns will be excluded from the operation. Either pass `include_groups=False` to exclude the groupings or explicitly select the grouping columns after groupby to silence this warning.\n",
      "  expected_proportions = data.groupby('subject').apply(\n"
     ]
    },
    {
     "name": "stdout",
     "output_type": "stream",
     "text": [
      "Generating plot: second_pass_task_type_full_ranking_ordering_1\n",
      "Generating plot: second_pass_task_type_choice_ranking_ordering_0\n",
      "Generating plot: second_pass_task_type_choice_ranking_ordering_1\n"
     ]
    },
    {
     "name": "stderr",
     "output_type": "stream",
     "text": [
      "/var/folders/7n/m1dxq2r12b77t0c09mty9kn00000gn/T/ipykernel_2708/1133449835.py:16: DeprecationWarning: DataFrameGroupBy.apply operated on the grouping columns. This behavior is deprecated, and in a future version of pandas the grouping columns will be excluded from the operation. Either pass `include_groups=False` to exclude the groupings or explicitly select the grouping columns after groupby to silence this warning.\n",
      "  feature_counts = data.groupby('subject').apply(\n",
      "/var/folders/7n/m1dxq2r12b77t0c09mty9kn00000gn/T/ipykernel_2708/1133449835.py:31: DeprecationWarning: DataFrameGroupBy.apply operated on the grouping columns. This behavior is deprecated, and in a future version of pandas the grouping columns will be excluded from the operation. Either pass `include_groups=False` to exclude the groupings or explicitly select the grouping columns after groupby to silence this warning.\n",
      "  expected_proportions = data.groupby('subject').apply(\n",
      "/var/folders/7n/m1dxq2r12b77t0c09mty9kn00000gn/T/ipykernel_2708/1133449835.py:16: DeprecationWarning: DataFrameGroupBy.apply operated on the grouping columns. This behavior is deprecated, and in a future version of pandas the grouping columns will be excluded from the operation. Either pass `include_groups=False` to exclude the groupings or explicitly select the grouping columns after groupby to silence this warning.\n",
      "  feature_counts = data.groupby('subject').apply(\n",
      "/var/folders/7n/m1dxq2r12b77t0c09mty9kn00000gn/T/ipykernel_2708/1133449835.py:31: DeprecationWarning: DataFrameGroupBy.apply operated on the grouping columns. This behavior is deprecated, and in a future version of pandas the grouping columns will be excluded from the operation. Either pass `include_groups=False` to exclude the groupings or explicitly select the grouping columns after groupby to silence this warning.\n",
      "  expected_proportions = data.groupby('subject').apply(\n",
      "/var/folders/7n/m1dxq2r12b77t0c09mty9kn00000gn/T/ipykernel_2708/1133449835.py:16: DeprecationWarning: DataFrameGroupBy.apply operated on the grouping columns. This behavior is deprecated, and in a future version of pandas the grouping columns will be excluded from the operation. Either pass `include_groups=False` to exclude the groupings or explicitly select the grouping columns after groupby to silence this warning.\n",
      "  feature_counts = data.groupby('subject').apply(\n",
      "/var/folders/7n/m1dxq2r12b77t0c09mty9kn00000gn/T/ipykernel_2708/1133449835.py:31: DeprecationWarning: DataFrameGroupBy.apply operated on the grouping columns. This behavior is deprecated, and in a future version of pandas the grouping columns will be excluded from the operation. Either pass `include_groups=False` to exclude the groupings or explicitly select the grouping columns after groupby to silence this warning.\n",
      "  expected_proportions = data.groupby('subject').apply(\n"
     ]
    },
    {
     "name": "stdout",
     "output_type": "stream",
     "text": [
      "Generating plot: third_pass_overall\n",
      "Generating plot: third_pass_ordering_1\n"
     ]
    },
    {
     "name": "stderr",
     "output_type": "stream",
     "text": [
      "/var/folders/7n/m1dxq2r12b77t0c09mty9kn00000gn/T/ipykernel_2708/1133449835.py:16: DeprecationWarning: DataFrameGroupBy.apply operated on the grouping columns. This behavior is deprecated, and in a future version of pandas the grouping columns will be excluded from the operation. Either pass `include_groups=False` to exclude the groupings or explicitly select the grouping columns after groupby to silence this warning.\n",
      "  feature_counts = data.groupby('subject').apply(\n",
      "/var/folders/7n/m1dxq2r12b77t0c09mty9kn00000gn/T/ipykernel_2708/1133449835.py:31: DeprecationWarning: DataFrameGroupBy.apply operated on the grouping columns. This behavior is deprecated, and in a future version of pandas the grouping columns will be excluded from the operation. Either pass `include_groups=False` to exclude the groupings or explicitly select the grouping columns after groupby to silence this warning.\n",
      "  expected_proportions = data.groupby('subject').apply(\n",
      "/var/folders/7n/m1dxq2r12b77t0c09mty9kn00000gn/T/ipykernel_2708/1133449835.py:16: DeprecationWarning: DataFrameGroupBy.apply operated on the grouping columns. This behavior is deprecated, and in a future version of pandas the grouping columns will be excluded from the operation. Either pass `include_groups=False` to exclude the groupings or explicitly select the grouping columns after groupby to silence this warning.\n",
      "  feature_counts = data.groupby('subject').apply(\n",
      "/var/folders/7n/m1dxq2r12b77t0c09mty9kn00000gn/T/ipykernel_2708/1133449835.py:31: DeprecationWarning: DataFrameGroupBy.apply operated on the grouping columns. This behavior is deprecated, and in a future version of pandas the grouping columns will be excluded from the operation. Either pass `include_groups=False` to exclude the groupings or explicitly select the grouping columns after groupby to silence this warning.\n",
      "  expected_proportions = data.groupby('subject').apply(\n",
      "/var/folders/7n/m1dxq2r12b77t0c09mty9kn00000gn/T/ipykernel_2708/1133449835.py:16: DeprecationWarning: DataFrameGroupBy.apply operated on the grouping columns. This behavior is deprecated, and in a future version of pandas the grouping columns will be excluded from the operation. Either pass `include_groups=False` to exclude the groupings or explicitly select the grouping columns after groupby to silence this warning.\n",
      "  feature_counts = data.groupby('subject').apply(\n"
     ]
    },
    {
     "name": "stdout",
     "output_type": "stream",
     "text": [
      "Generating plot: third_pass_ordering_0\n",
      "Generating plot: third_pass_task_type_full_ranking\n",
      "Generating plot: third_pass_task_type_choice_ranking\n"
     ]
    },
    {
     "name": "stderr",
     "output_type": "stream",
     "text": [
      "/var/folders/7n/m1dxq2r12b77t0c09mty9kn00000gn/T/ipykernel_2708/1133449835.py:31: DeprecationWarning: DataFrameGroupBy.apply operated on the grouping columns. This behavior is deprecated, and in a future version of pandas the grouping columns will be excluded from the operation. Either pass `include_groups=False` to exclude the groupings or explicitly select the grouping columns after groupby to silence this warning.\n",
      "  expected_proportions = data.groupby('subject').apply(\n",
      "/var/folders/7n/m1dxq2r12b77t0c09mty9kn00000gn/T/ipykernel_2708/1133449835.py:16: DeprecationWarning: DataFrameGroupBy.apply operated on the grouping columns. This behavior is deprecated, and in a future version of pandas the grouping columns will be excluded from the operation. Either pass `include_groups=False` to exclude the groupings or explicitly select the grouping columns after groupby to silence this warning.\n",
      "  feature_counts = data.groupby('subject').apply(\n",
      "/var/folders/7n/m1dxq2r12b77t0c09mty9kn00000gn/T/ipykernel_2708/1133449835.py:31: DeprecationWarning: DataFrameGroupBy.apply operated on the grouping columns. This behavior is deprecated, and in a future version of pandas the grouping columns will be excluded from the operation. Either pass `include_groups=False` to exclude the groupings or explicitly select the grouping columns after groupby to silence this warning.\n",
      "  expected_proportions = data.groupby('subject').apply(\n",
      "/var/folders/7n/m1dxq2r12b77t0c09mty9kn00000gn/T/ipykernel_2708/1133449835.py:16: DeprecationWarning: DataFrameGroupBy.apply operated on the grouping columns. This behavior is deprecated, and in a future version of pandas the grouping columns will be excluded from the operation. Either pass `include_groups=False` to exclude the groupings or explicitly select the grouping columns after groupby to silence this warning.\n",
      "  feature_counts = data.groupby('subject').apply(\n",
      "/var/folders/7n/m1dxq2r12b77t0c09mty9kn00000gn/T/ipykernel_2708/1133449835.py:31: DeprecationWarning: DataFrameGroupBy.apply operated on the grouping columns. This behavior is deprecated, and in a future version of pandas the grouping columns will be excluded from the operation. Either pass `include_groups=False` to exclude the groupings or explicitly select the grouping columns after groupby to silence this warning.\n",
      "  expected_proportions = data.groupby('subject').apply(\n",
      "/var/folders/7n/m1dxq2r12b77t0c09mty9kn00000gn/T/ipykernel_2708/1133449835.py:16: DeprecationWarning: DataFrameGroupBy.apply operated on the grouping columns. This behavior is deprecated, and in a future version of pandas the grouping columns will be excluded from the operation. Either pass `include_groups=False` to exclude the groupings or explicitly select the grouping columns after groupby to silence this warning.\n",
      "  feature_counts = data.groupby('subject').apply(\n",
      "/var/folders/7n/m1dxq2r12b77t0c09mty9kn00000gn/T/ipykernel_2708/1133449835.py:31: DeprecationWarning: DataFrameGroupBy.apply operated on the grouping columns. This behavior is deprecated, and in a future version of pandas the grouping columns will be excluded from the operation. Either pass `include_groups=False` to exclude the groupings or explicitly select the grouping columns after groupby to silence this warning.\n",
      "  expected_proportions = data.groupby('subject').apply(\n"
     ]
    },
    {
     "name": "stdout",
     "output_type": "stream",
     "text": [
      "Generating plot: third_pass_task_type_full_ranking_ordering_1\n",
      "Generating plot: third_pass_task_type_full_ranking_ordering_0\n",
      "Generating plot: third_pass_task_type_choice_ranking_ordering_1\n"
     ]
    },
    {
     "name": "stderr",
     "output_type": "stream",
     "text": [
      "/var/folders/7n/m1dxq2r12b77t0c09mty9kn00000gn/T/ipykernel_2708/1133449835.py:16: DeprecationWarning: DataFrameGroupBy.apply operated on the grouping columns. This behavior is deprecated, and in a future version of pandas the grouping columns will be excluded from the operation. Either pass `include_groups=False` to exclude the groupings or explicitly select the grouping columns after groupby to silence this warning.\n",
      "  feature_counts = data.groupby('subject').apply(\n",
      "/var/folders/7n/m1dxq2r12b77t0c09mty9kn00000gn/T/ipykernel_2708/1133449835.py:31: DeprecationWarning: DataFrameGroupBy.apply operated on the grouping columns. This behavior is deprecated, and in a future version of pandas the grouping columns will be excluded from the operation. Either pass `include_groups=False` to exclude the groupings or explicitly select the grouping columns after groupby to silence this warning.\n",
      "  expected_proportions = data.groupby('subject').apply(\n",
      "/var/folders/7n/m1dxq2r12b77t0c09mty9kn00000gn/T/ipykernel_2708/1133449835.py:16: DeprecationWarning: DataFrameGroupBy.apply operated on the grouping columns. This behavior is deprecated, and in a future version of pandas the grouping columns will be excluded from the operation. Either pass `include_groups=False` to exclude the groupings or explicitly select the grouping columns after groupby to silence this warning.\n",
      "  feature_counts = data.groupby('subject').apply(\n",
      "/var/folders/7n/m1dxq2r12b77t0c09mty9kn00000gn/T/ipykernel_2708/1133449835.py:31: DeprecationWarning: DataFrameGroupBy.apply operated on the grouping columns. This behavior is deprecated, and in a future version of pandas the grouping columns will be excluded from the operation. Either pass `include_groups=False` to exclude the groupings or explicitly select the grouping columns after groupby to silence this warning.\n",
      "  expected_proportions = data.groupby('subject').apply(\n",
      "/var/folders/7n/m1dxq2r12b77t0c09mty9kn00000gn/T/ipykernel_2708/1133449835.py:16: DeprecationWarning: DataFrameGroupBy.apply operated on the grouping columns. This behavior is deprecated, and in a future version of pandas the grouping columns will be excluded from the operation. Either pass `include_groups=False` to exclude the groupings or explicitly select the grouping columns after groupby to silence this warning.\n",
      "  feature_counts = data.groupby('subject').apply(\n",
      "/var/folders/7n/m1dxq2r12b77t0c09mty9kn00000gn/T/ipykernel_2708/1133449835.py:31: DeprecationWarning: DataFrameGroupBy.apply operated on the grouping columns. This behavior is deprecated, and in a future version of pandas the grouping columns will be excluded from the operation. Either pass `include_groups=False` to exclude the groupings or explicitly select the grouping columns after groupby to silence this warning.\n",
      "  expected_proportions = data.groupby('subject').apply(\n"
     ]
    },
    {
     "name": "stdout",
     "output_type": "stream",
     "text": [
      "Generating plot: third_pass_task_type_choice_ranking_ordering_0\n"
     ]
    }
   ],
   "source": [
    "# Set up paths to your datasets\n",
    "dataset_paths = {\n",
    "    'first_pass': '/Users/jordangunn/jatos/study_assets_root/online_experiments/experiments/sortablerank/first_pass_data.csv',\n",
    "    'second_pass': '/Users/jordangunn/jatos/study_assets_root/online_experiments/experiments/sortablerank/second_pass_data.csv',\n",
    "    'third_pass': '/Users/jordangunn/jatos/study_assets_root/online_experiments/experiments/sortablerank/third_pass_data.csv'\n",
    "}\n",
    "\n",
    "# Output directory for saving plots\n",
    "output_dir = '/Users/jordangunn/jatos/study_assets_root/online_experiments/experiments/sortablerank/figures/'\n",
    "os.makedirs(output_dir, exist_ok=True)\n",
    "\n",
    "# Loop through each dataset and generate plots\n",
    "for dataset_name, dataset_path in dataset_paths.items():\n",
    "    # Load the data\n",
    "    data = pd.read_csv(dataset_path)\n",
    "    \n",
    "    # Ensure the necessary columns are present\n",
    "    required_columns = ['subject', 'condition', 'task_type', 'ordering', 'shared_features', 'chosen']\n",
    "    missing_columns = set(required_columns) - set(data.columns)\n",
    "    if missing_columns:\n",
    "        print(f\"Dataset {dataset_name} is missing columns: {missing_columns}\")\n",
    "        continue\n",
    "\n",
    "    # Define combinations to loop through\n",
    "    combinations = []\n",
    "\n",
    "    # 1) All orderings and all task types [1 plot per dataset]\n",
    "    combinations.append({'name': 'overall', 'filters': {}})\n",
    "\n",
    "    # Get unique levels for ordering and task_type\n",
    "    ordering_levels = data['ordering'].unique()\n",
    "    task_type_levels = data['task_type'].unique()\n",
    "\n",
    "    # 2) Each ordering, across all task types\n",
    "    if len(ordering_levels) > 1:\n",
    "        for ordering in ordering_levels:\n",
    "            combinations.append({\n",
    "                'name': f'ordering_{ordering}',\n",
    "                'filters': {'ordering': ordering}\n",
    "            })\n",
    "    else:\n",
    "        # Ordering has only one level in first_pass_data\n",
    "        print(f\"Dataset {dataset_name} has only one ordering level.\")\n",
    "\n",
    "    # 3) Each task type, across all orderings\n",
    "    for task_type in task_type_levels:\n",
    "        combinations.append({\n",
    "            'name': f'task_type_{task_type}',\n",
    "            'filters': {'task_type': task_type}\n",
    "        })\n",
    "\n",
    "    # 4) Each task type and each ordering\n",
    "    if len(ordering_levels) > 1:\n",
    "        for task_type in task_type_levels:\n",
    "            for ordering in ordering_levels:\n",
    "                combinations.append({\n",
    "                    'name': f'task_type_{task_type}_ordering_{ordering}',\n",
    "                    'filters': {'task_type': task_type, 'ordering': ordering}\n",
    "                })\n",
    "    else:\n",
    "        # Skip since only one ordering level\n",
    "        print(f\"Dataset {dataset_name} does not have multiple ordering levels for task_type and ordering combinations.\")\n",
    "\n",
    "    # Loop through combinations and generate plots\n",
    "    for combo in combinations:\n",
    "        plot_name = f\"{dataset_name}_{combo['name']}\"\n",
    "        # Apply filters\n",
    "        filtered_data = data\n",
    "        for key, value in combo['filters'].items():\n",
    "            filtered_data = filtered_data[filtered_data[key] == value]\n",
    "        \n",
    "        # Check if filtered_data is not empty\n",
    "        if filtered_data.empty:\n",
    "            print(f\"No data for {plot_name}, skipping.\")\n",
    "            continue\n",
    "        \n",
    "        # Generate the plot\n",
    "        save_path = os.path.join(output_dir, f\"{plot_name}.png\")\n",
    "        plot_title = f\"Homophily Check: {dataset_name} - {combo['name']}\"\n",
    "        print(f\"Generating plot: {plot_name}\")\n",
    "        plot_homophily_check(filtered_data, save_path=save_path, plot_title=plot_title)"
   ]
  }
 ],
 "metadata": {
  "kernelspec": {
   "display_name": "online_experiments",
   "language": "python",
   "name": "python3"
  },
  "language_info": {
   "codemirror_mode": {
    "name": "ipython",
    "version": 3
   },
   "file_extension": ".py",
   "mimetype": "text/x-python",
   "name": "python",
   "nbconvert_exporter": "python",
   "pygments_lexer": "ipython3",
   "version": "3.12.3"
  }
 },
 "nbformat": 4,
 "nbformat_minor": 2
}
